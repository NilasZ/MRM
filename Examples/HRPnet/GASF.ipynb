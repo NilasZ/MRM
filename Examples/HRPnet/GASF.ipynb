{
 "cells": [
  {
   "cell_type": "code",
   "execution_count": 35,
   "metadata": {},
   "outputs": [
    {
     "name": "stdout",
     "output_type": "stream",
     "text": [
      "cuda\n"
     ]
    }
   ],
   "source": [
    "import torch\n",
    "import torch.nn as nn\n",
    "import torch.optim as optim\n",
    "from torch.utils.data import Dataset, DataLoader\n",
    "import torch.nn.functional as F\n",
    "import pandas as pd\n",
    "import numpy as np\n",
    "import matplotlib.pyplot as plt\n",
    "import os\n",
    "import glob\n",
    "import pickle\n",
    "from numpy.fft import fftshift,ifft\n",
    "from scipy.signal import stft, windows\n",
    "from misc import *\n",
    "\n",
    "from tqdm import tqdm\n",
    "\n",
    "device = torch.device('cuda' if torch.cuda.is_available() else 'cpu')\n",
    "print(device)"
   ]
  },
  {
   "cell_type": "code",
   "execution_count": 36,
   "metadata": {},
   "outputs": [],
   "source": [
    "# 定义稀疏自编码器\n",
    "class SparseAutoencoder(nn.Module):\n",
    "    def __init__(self, input_size, hidden_size, sparsity_param=0.05, beta=3):\n",
    "        super(SparseAutoencoder, self).__init__()\n",
    "        self.encoder = nn.Sequential(\n",
    "            nn.Linear(input_size, hidden_size),\n",
    "            nn.ReLU()\n",
    "        )\n",
    "        self.decoder = nn.Sequential(\n",
    "            nn.Linear(hidden_size, input_size),\n",
    "            nn.Sigmoid()\n",
    "        )\n",
    "        self.sparsity_param = sparsity_param  # 稀疏性目标\n",
    "        self.beta = beta  # KL散度惩罚项的权重\n",
    "\n",
    "    def forward(self, x):\n",
    "        hidden = self.encoder(x)\n",
    "        output = self.decoder(hidden)\n",
    "        return output, hidden"
   ]
  },
  {
   "cell_type": "code",
   "execution_count": 37,
   "metadata": {},
   "outputs": [],
   "source": [
    "model_pol = torch.load('SAE_pol.pth');   \n",
    "model_rcs = torch.load('SAE_rcs.pth');\n",
    "model_hrrp = torch.load('SAE_hrrp.pth');\n",
    "\n",
    "model_pol.eval();\n",
    "model_rcs.eval();\n",
    "model_hrrp.eval();"
   ]
  },
  {
   "cell_type": "code",
   "execution_count": 38,
   "metadata": {},
   "outputs": [],
   "source": [
    "dataset_path = 'G:/MRM_0.5/'\n",
    "train_data_path = dataset_path + 'train/'\n",
    "test_data_path = dataset_path + 'test/'\n",
    "\n",
    "def preprocessing(data, snr):\n",
    "    E_pol = []\n",
    "    polar_type = ['HH', 'HV', 'VH', 'VV']\n",
    "    E, noise_power = awgn(data['echo']['HH'], snr=snr)\n",
    "    for pol in polar_type:\n",
    "        E, _ = awgnfp(data['echo'][pol], noise_power=noise_power)\n",
    "        E_pol.append(np.abs(E))\n",
    "    E_pol = np.array(E_pol).astype(np.float32)       # (4, 512)\n",
    "\n",
    "    RCS = rcs(E)\n",
    "    RCS = RCS.astype(np.float32)\n",
    "\n",
    "    hrrp, noise_power = awgn(data['hrrp']['HH'], snr=snr)\n",
    "    hrrp = fftshift(ifft(hrrp,axis = 0),axes=0)\n",
    "    hrrp = np.log10(np.abs(hrrp))\n",
    "    hrrp = hrrp.astype(np.float32)\n",
    "\n",
    "    return E_pol, RCS, hrrp\n",
    "\n",
    "class Dataset(Dataset):\n",
    "    def __init__(self, dataset_dir, snr, pad_size):\n",
    "        self.snr = snr\n",
    "        self.pad_size = pad_size\n",
    "        self.dataset_dir = dataset_dir\n",
    "        self.instance_list = self.get_instance()\n",
    "    \n",
    "    def get_instance(self):\n",
    "        instance_list = []\n",
    "        for label in os.listdir(self.dataset_dir):\n",
    "            label_dir = os.path.join(self.dataset_dir,label)\n",
    "            label_list = glob.glob(label_dir+'/*.pkl')\n",
    "            instance_list += label_list\n",
    "        return instance_list\n",
    "\n",
    "    def __len__(self):\n",
    "        return len(self.instance_list)\n",
    "\n",
    "    def __getitem__(self, idx):\n",
    "        data = load_pkl(self.instance_list[idx])\n",
    "        x = preprocessing(data, snr = self.snr)  \n",
    "        y = data['target_id']\n",
    "        return x, torch.tensor(y, dtype=torch.long)"
   ]
  },
  {
   "cell_type": "code",
   "execution_count": 45,
   "metadata": {},
   "outputs": [
    {
     "name": "stdout",
     "output_type": "stream",
     "text": [
      "torch.Size([1, 128])\n"
     ]
    },
    {
     "data": {
      "text/plain": [
       "tensor(0., device='cuda:0', grad_fn=<MaxBackward1>)"
      ]
     },
     "execution_count": 45,
     "metadata": {},
     "output_type": "execute_result"
    }
   ],
   "source": [
    "snr = 0\n",
    "pad_size = 201\n",
    "train_dataset = Dataset(train_data_path, snr = snr, pad_size = pad_size)\n",
    "test_dataset = Dataset(test_data_path, snr = snr, pad_size = pad_size)\n",
    "\n",
    "train_loader = DataLoader(train_dataset, batch_size=32, shuffle=True)\n",
    "test_loader = DataLoader(test_dataset, batch_size=32, shuffle=True)\n",
    "\n",
    "inp, label = train_dataset.__getitem__(1)\n",
    "\n",
    "inp = torch.from_numpy(inp[2]).to(device)\n",
    "# # 定义稀疏自编码器模型\n",
    "# input_size = inp.shape[0]*inp.shape[1]  \n",
    "\n",
    "outputs, hidden = model_hrrp.forward(inp.reshape(1,201*512).to(device))\n",
    "print(hidden.shape)\n",
    "torch.max(hidden)"
   ]
  },
  {
   "cell_type": "code",
   "execution_count": 33,
   "metadata": {},
   "outputs": [],
   "source": [
    "def normalizenp(z):\n",
    "    z_max = torch.max(z)\n",
    "    z_min = torch.min(z)\n",
    "    \n",
    "    # 按照公式进行归一化\n",
    "    z_normalized = ((z - z_max) + (z - z_min)) / (z_max - z_min)\n",
    "    \n",
    "    return z_normalized\n",
    "\n",
    "def gasf(phi):\n",
    "    \"\"\"\n",
    "    Constructs the Gramian Summation Angular Field (GASF) from the angle phi.\n",
    "    \n",
    "    :param phi: A tensor of angles (in radians), typically derived from the arccos of normalized values.\n",
    "    :return: The Gramian Summation Angular Field (GASF) matrix.\n",
    "    \"\"\"\n",
    "    # Expand dimensions to perform outer sum\n",
    "    phi_i = phi.unsqueeze(1)  # Shape: (n, 1)\n",
    "    phi_j = phi.unsqueeze(0)  # Shape: (1, n)\n",
    "    \n",
    "    # Compute GASF using cosine of angle sums\n",
    "    gasf_matrix = torch.cos(phi_i + phi_j)\n",
    "    return gasf_matrix"
   ]
  },
  {
   "cell_type": "code",
   "execution_count": 34,
   "metadata": {},
   "outputs": [
    {
     "name": "stdout",
     "output_type": "stream",
     "text": [
      "tensor(0)\n"
     ]
    },
    {
     "data": {
      "image/png": "[encoded data removed]",
      "text/plain": [
       "<Figure size 640x480 with 1 Axes>"
      ]
     },
     "metadata": {},
     "output_type": "display_data"
    }
   ],
   "source": [
    "plt.imshow(gasf(normalizenp(hidden.squeeze(0))).detach().cpu().numpy())\n",
    "print(label)"
   ]
  },
  {
   "cell_type": "code",
   "execution_count": null,
   "metadata": {},
   "outputs": [],
   "source": []
  }
 ],
 "metadata": {
  "kernelspec": {
   "display_name": "torch",
   "language": "python",
   "name": "python3"
  },
  "language_info": {
   "codemirror_mode": {
    "name": "ipython",
    "version": 3
   },
   "file_extension": ".py",
   "mimetype": "text/x-python",
   "name": "python",
   "nbconvert_exporter": "python",
   "pygments_lexer": "ipython3",
   "version": "3.10.14"
  }
 },
 "nbformat": 4,
 "nbformat_minor": 2
}
