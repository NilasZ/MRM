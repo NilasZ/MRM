{
 "cells": [
  {
   "cell_type": "code",
   "execution_count": 2,
   "metadata": {},
   "outputs": [],
   "source": [
    "import json\n",
    "import numpy as np\n",
    "import matplotlib.pyplot as plt\n",
    "from mpl_toolkits.mplot3d.art3d import Poly3DCollection\n",
    "from mm import *"
   ]
  },
  {
   "cell_type": "code",
   "execution_count": 3,
   "metadata": {},
   "outputs": [],
   "source": [
    "def load_parameter(filepath, evaluate=False):\n",
    "    with open(filepath, 'r') as file:\n",
    "        data = json.load(file)\n",
    "\n",
    "    if evaluate:\n",
    "        for parameter_list in [data[\"train_parameters\"], data[\"test_parameters\"]]:\n",
    "            for parameter_set in parameter_list:\n",
    "                parameter_set[\"radar_polangle\"] = [[eval(angle) for angle in pair] for pair in parameter_set[\"radar_polangle\"]]\n",
    "                parameter_set[\"radar_altitude\"] = [eval(value) for value in parameter_set[\"radar_altitude\"]]\n",
    "                parameter_set[\"warhead_v\"] = [eval(value) for value in parameter_set[\"warhead_v\"]]\n",
    "                parameter_set[\"warhead_r\"] = [eval(value) for value in parameter_set[\"warhead_r\"]]\n",
    "                parameter_set[\"track_interval\"] = [eval(value) for value in parameter_set[\"track_interval\"]]\n",
    "\n",
    "    return data"
   ]
  },
  {
   "cell_type": "code",
   "execution_count": 4,
   "metadata": {},
   "outputs": [
    {
     "data": {
      "text/plain": [
       "{'radar_altitude': [0, 15],\n",
       " 'radar_polangle': [[0.7853981633974483, 0],\n",
       "  [0.5235987755982988, 0.2617993877991494]],\n",
       " 'warhead_v': [0, 7120.0, 1000.0],\n",
       " 'warhead_r': [6771000.0, 0, 0],\n",
       " 'track_interval': [60, 120]}"
      ]
     },
     "execution_count": 4,
     "metadata": {},
     "output_type": "execute_result"
    }
   ],
   "source": [
    "# Load parameters.\n",
    "parameters = load_parameter('parameters.json', evaluate=True)\n",
    "parameters['train_parameters'][0]\n",
    "# parameters['test_parameters'][0]"
   ]
  },
  {
   "cell_type": "code",
   "execution_count": 6,
   "metadata": {},
   "outputs": [],
   "source": [
    "def display_track(initial_parameters_list, combine = True):\n",
    "    R = 6371e3\n",
    "    if combine:\n",
    "        fig = plt.figure(figsize=(10, 7))\n",
    "        ax = fig.add_subplot(111, projection='3d')\n",
    "        for parameters in initial_parameters_list:\n",
    "            a, e, i, Omega, omega, M0 = orbital_elements(parameters['warhead_r'], parameters['warhead_v'] , False)\n",
    "            orbit_points, _ = calculate_orbit_points(a, e, i, Omega, omega, M0, 1000)\n",
    "            view_orbit(ax, parameters['warhead_r'], parameters['warhead_v'], None, 0, 45, 'Warhead Orbit', orbit_points = orbit_points)\n",
    "            ax.scatter(orbit_points[-1][0], orbit_points[-1][1], orbit_points[-1][2], marker='x', color = 'k')\n",
    "            ax.scatter(orbit_points[0][0], orbit_points[0][1], orbit_points[0][2], marker='.', color = 'k')\n",
    "            start_point = orbit_points[parameters['track_interval'][0]]\n",
    "            end_point = orbit_points[parameters['track_interval'][1]]\n",
    "\n",
    "            for idx,radar_pa in enumerate(parameters['radar_polangle']):\n",
    "                r = R + parameters['radar_altitude'][idx]\n",
    "                radar = np.array([r * np.cos(radar_pa[0]) * np.cos(radar_pa[1]), \n",
    "                                    r * np.sin(radar_pa[0]) * np.cos(radar_pa[1]), \n",
    "                                    r * np.sin(radar_pa[1])]) \n",
    "                ax.scatter(start_point[0], start_point[1], start_point[2], color = 'b', s=5)\n",
    "                ax.scatter(end_point[0], end_point[1], end_point[2] , color = 'b', s=5)\n",
    "                \n",
    "                ax.scatter(radar[0], radar[1], radar[2] , color = 'r', s=5)\n",
    "                \n",
    "                vertices = [ start_point, end_point, radar]\n",
    "                poly3d = [vertices]\n",
    "\n",
    "                ax.add_collection3d(Poly3DCollection(poly3d, facecolors='gray', linewidths=0.5, edgecolors='b', alpha=0.5))\n",
    "                \n",
    "    \n",
    "    else:\n",
    "        for num,parameters in enumerate(initial_parameters_list):\n",
    "            fig = plt.figure(figsize=(10, 10))\n",
    "            ax = fig.add_subplot(111, projection='3d')\n",
    "            a, e, i, Omega, omega, M0 = orbital_elements(parameters['warhead_r'], parameters['warhead_v'] , False)\n",
    "            orbit_points, _ = calculate_orbit_points(a, e, i, Omega, omega, M0, 1000)\n",
    "            view_orbit(ax, parameters['warhead_r'], parameters['warhead_v'], None, 0, 45, None, orbit_points = orbit_points)\n",
    "            ax.scatter(orbit_points[-1][0], orbit_points[-1][1], orbit_points[-1][2], marker='x', color = 'k')\n",
    "            ax.scatter(orbit_points[0][0], orbit_points[0][1], orbit_points[0][2], marker='.', color = 'k')\n",
    "            start_point = orbit_points[parameters['track_interval'][0]]\n",
    "            end_point = orbit_points[parameters['track_interval'][1]]\n",
    "\n",
    "            for idx,radar_pa in enumerate(parameters['radar_polangle']):\n",
    "                r = R + parameters['radar_altitude'][idx]\n",
    "                radar = np.array([r * np.cos(radar_pa[0]) * np.cos(radar_pa[1]), \n",
    "                                    r * np.sin(radar_pa[0]) * np.cos(radar_pa[1]), \n",
    "                                    r * np.sin(radar_pa[1])]) \n",
    "                ax.scatter(start_point[0], start_point[1], start_point[2], color = 'b', s=5)\n",
    "                ax.scatter(end_point[0], end_point[1], end_point[2] , color = 'b', s=5)\n",
    "                \n",
    "                ax.scatter(radar[0], radar[1], radar[2] , color = 'r', s=5)\n",
    "                \n",
    "                # vertices = [radar, start_point, end_point]\n",
    "                # poly3d = [vertices]\n",
    "\n",
    "                # ax.add_collection3d(Poly3DCollection(poly3d, facecolors='gray', linewidths=0.5, edgecolors='b', alpha=0.5))\n",
    "                verts = orbit_points[parameters['track_interval'][0]:parameters['track_interval'][1]].tolist()\n",
    "                verts.append(radar.tolist())\n",
    "                ax.add_collection3d(Poly3DCollection([verts], facecolors='gray', linewidths=0.5, edgecolors='b', alpha=0.5))\n",
    "\n",
    "                ax.set_axis_off()\n",
    "            \n",
    "            fig.savefig(f'./{num}.png', format='png', dpi=500, bbox_inches='tight') # change it.\n",
    "            plt.close(fig)"
   ]
  },
  {
   "cell_type": "code",
   "execution_count": 8,
   "metadata": {},
   "outputs": [],
   "source": [
    "%matplotlib inline\n",
    "display_track(parameters['train_parameters'], combine = False)"
   ]
  }
 ],
 "metadata": {
  "kernelspec": {
   "display_name": "base",
   "language": "python",
   "name": "python3"
  },
  "language_info": {
   "codemirror_mode": {
    "name": "ipython",
    "version": 3
   },
   "file_extension": ".py",
   "mimetype": "text/x-python",
   "name": "python",
   "nbconvert_exporter": "python",
   "pygments_lexer": "ipython3",
   "version": "3.12.3"
  }
 },
 "nbformat": 4,
 "nbformat_minor": 2
}
