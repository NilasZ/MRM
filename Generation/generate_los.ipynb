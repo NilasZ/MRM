{
 "cells": [
  {
   "cell_type": "code",
   "execution_count": 1,
   "metadata": {},
   "outputs": [],
   "source": [
    "from mmrely import *\n",
    "import numpy as np \n",
    "import matplotlib.pyplot as plt\n",
    "from mpl_toolkits.mplot3d import Axes3D\n",
    "from scipy.signal import stft, windows\n",
    "from mpl_toolkits.mplot3d.art3d import Poly3DCollection\n",
    "import pandas as pd\n",
    "import pickle\n",
    "import json\n"
   ]
  },
  {
   "cell_type": "code",
   "execution_count": 3,
   "metadata": {},
   "outputs": [],
   "source": [
    "train_parameters_list = [\n",
    "    {\n",
    "        \"radar_altitude\": [0, 15],\n",
    "        \"radar_polangle\": [[np.pi / 4, 0], [np.pi / 6, np.pi / 12]],  # [radar_alpha, radar_belta]\n",
    "        \"warhead_v\": [0, 7.12e3, 1e3],\n",
    "        \"warhead_r\": [6771e3, 0, 0],\n",
    "        \"track_interval\": [60, 120]\n",
    "    },\n",
    "    {\n",
    "        \"radar_altitude\": [0, 1e3, 0],\n",
    "        \"radar_polangle\": [[np.pi / 6, np.pi / 6], [np.pi / 9, np.pi / 40],  [np.pi / 5, np.pi / 50]],  # [radar_alpha, radar_belta]\n",
    "        \"warhead_v\": [0, 6e3, 3e3],\n",
    "        \"warhead_r\": [6771e3, 0, 1000e3],\n",
    "        \"track_interval\": [60, 140]\n",
    "    },\n",
    "    {\n",
    "        \"radar_altitude\": [0, 2e3],\n",
    "        \"radar_polangle\": [[np.pi / 12, np.pi / 12], [np.pi / 9, -np.pi / 12]],  # [radar_alpha, radar_belta]\n",
    "        \"warhead_v\": [0, 6e3, 5e3],\n",
    "        \"warhead_r\": [6671e3, 0, -1000e3],\n",
    "        \"track_interval\": [60, 90]\n",
    "    },\n",
    "    {\n",
    "        \"radar_altitude\": [0, 1.5e3],\n",
    "        \"radar_polangle\": [[np.pi / 12, np.pi / 12], [np.pi / 9, 0]],  # [radar_alpha, radar_belta]\n",
    "        \"warhead_v\": [0, 6e3, -3e3],\n",
    "        \"warhead_r\": [6971e3, 1e3, 2000e3],\n",
    "        \"track_interval\": [60, 90]\n",
    "    },\n",
    "]\n",
    "\n",
    "test_parameters_list = [\n",
    "    {\n",
    "        \"radar_altitude\": [0],\n",
    "        \"radar_polangle\": [[np.pi / 4.5, np.pi / 6]],  # [radar_alpha, radar_belta]\n",
    "        \"warhead_v\": [0, 3e3, 1e3],\n",
    "        \"warhead_r\": [6771e3, 2000e3, 4000e3],\n",
    "        \"track_interval\": [120, 240]\n",
    "    },\n",
    "    {\n",
    "        \"radar_altitude\": [0],\n",
    "        \"radar_polangle\": [[np.pi / 6, np.pi / 6]],  # [radar_alpha, radar_belta]\n",
    "        \"warhead_v\": [1e3, 3e3, 5e3],\n",
    "        \"warhead_r\": [6571e3, 1000e3, 1000e3],\n",
    "        \"track_interval\": [130, 250]\n",
    "    },\n",
    "]\n",
    "\n",
    "# Save the data to a JSON file\n",
    "with open('parameters.json', 'w') as file:\n",
    "    json.dump({\"train_parameters\": train_parameters_list, \"test_parameters\": test_parameters_list}, file, indent=4)\n"
   ]
  },
  {
   "cell_type": "code",
   "execution_count": 4,
   "metadata": {},
   "outputs": [],
   "source": [
    "with open('parameters.json', 'r') as file:\n",
    "    data = json.load(file)\n",
    "train_parameters_list = data[\"train_parameters\"]\n",
    "test_parameters_list = data[\"test_parameters\"]"
   ]
  },
  {
   "cell_type": "code",
   "execution_count": 36,
   "metadata": {},
   "outputs": [],
   "source": [
    "# train_parameters_list = [\n",
    "#     {\n",
    "#         \"radar_altitude\": [\"0\", \"15\"],\n",
    "#         \"radar_polangle\": [[\"np.pi / 4\", \"0\"], [\"np.pi / 6\", \"np.pi / 12\"]],  # [radar_alpha, radar_belta]\n",
    "#         \"warhead_v\": [\"0\", \"7.12e3\", \"1e3\"],\n",
    "#         \"warhead_r\": [\"6771e3\", \"0\", \"0\"],\n",
    "#         \"track_interval\": [\"60\", \"120\"]\n",
    "#     },\n",
    "#     {\n",
    "#         \"radar_altitude\": [\"0\", \"1e3\", \"0\"],\n",
    "#         \"radar_polangle\": [[\"np.pi / 6\", \"np.pi / 6\"], [\"np.pi / 9\", \"np.pi / 40\"], [\"np.pi / 5\", \"np.pi / 50\"]],  # [radar_alpha, radar_belta]\n",
    "#         \"warhead_v\": [\"0\", \"6e3\", \"3e3\"],\n",
    "#         \"warhead_r\": [\"6771e3\", \"0\", \"1000e3\"],\n",
    "#         \"track_interval\": [\"60\", \"140\"]\n",
    "#     },\n",
    "#     {\n",
    "#         \"radar_altitude\": [\"0\", \"2e3\"],\n",
    "#         \"radar_polangle\": [[\"np.pi / 12\", \"np.pi / 12\"], [\"np.pi / 9\", \"-np.pi / 12\"]],  # [radar_alpha, radar_belta]\n",
    "#         \"warhead_v\": [\"0\", \"6e3\", \"5e3\"],\n",
    "#         \"warhead_r\": [\"6671e3\", \"0\", \"-1000e3\"],\n",
    "#         \"track_interval\": [\"60\", \"90\"]\n",
    "#     },\n",
    "#     {\n",
    "#         \"radar_altitude\": [\"0\", \"1.5e3\"],\n",
    "#         \"radar_polangle\": [[\"np.pi / 12\", \"np.pi / 12\"], [\"np.pi / 9\", \"0\"]],  # [radar_alpha, radar_belta]\n",
    "#         \"warhead_v\": [\"0\", \"6e3\", \"-3e3\"],\n",
    "#         \"warhead_r\": [\"6971e3\", \"1e3\", \"2000e3\"],\n",
    "#         \"track_interval\": [\"60\", \"90\"]\n",
    "#     },\n",
    "# ]\n",
    "\n",
    "# test_parameters_list = [\n",
    "#     {\n",
    "#         \"radar_altitude\": [\"0\"],\n",
    "#         \"radar_polangle\": [[\"np.pi / 4.5\", \"np.pi / 6\"]],  # [radar_alpha, radar_belta]\n",
    "#         \"warhead_v\": [\"0\", \"3e3\", \"1e3\"],\n",
    "#         \"warhead_r\": [\"6771e3\", \"2000e3\", \"4000e3\"],\n",
    "#         \"track_interval\": [\"120\", \"240\"]\n",
    "#     },\n",
    "#     {\n",
    "#         \"radar_altitude\": [\"0\"],\n",
    "#         \"radar_polangle\": [[\"np.pi / 6\", \"np.pi / 6\"]],  # [radar_alpha, radar_belta]\n",
    "#         \"warhead_v\": [\"1e3\", \"3e3\", \"5e3\"],\n",
    "#         \"warhead_r\": [\"6571e3\", \"1000e3\", \"1000e3\"],\n",
    "#         \"track_interval\": [\"130\", \"250\"]\n",
    "#     },\n",
    "# ]\n",
    "\n",
    "# # Save the data to a JSON file\n",
    "# with open('parameters.json', 'w') as file:\n",
    "#     json.dump({\"train_parameters\": train_parameters_list, \"test_parameters\": test_parameters_list}, file, indent=4)"
   ]
  },
  {
   "cell_type": "code",
   "execution_count": 5,
   "metadata": {},
   "outputs": [],
   "source": [
    "def display_track(initial_parameters_list, combine = True, type = 'train'):\n",
    "    R = 6371e3\n",
    "    if combine:\n",
    "        fig = plt.figure(figsize=(10, 7))\n",
    "        ax = fig.add_subplot(111, projection='3d')\n",
    "        for parameters in initial_parameters_list:\n",
    "            a, e, i, Omega, omega, M0 = orbital_elements(parameters['warhead_r'], parameters['warhead_v'] , False)\n",
    "            orbit_points, _ = calculate_orbit_points(a, e, i, Omega, omega, M0, 1000)\n",
    "            view_orbit(ax, parameters['warhead_r'], parameters['warhead_v'], None, 0, 45, 'Warhead Orbit', orbit_points = orbit_points)\n",
    "            ax.scatter(orbit_points[-1][0], orbit_points[-1][1], orbit_points[-1][2], marker='x', color = 'k')\n",
    "            ax.scatter(orbit_points[0][0], orbit_points[0][1], orbit_points[0][2], marker='.', color = 'k')\n",
    "            start_point = orbit_points[parameters['track_interval'][0]]\n",
    "            end_point = orbit_points[parameters['track_interval'][1]]\n",
    "\n",
    "            for idx,radar_pa in enumerate(parameters['radar_polangle']):\n",
    "                r = R + parameters['radar_altitude'][idx]\n",
    "                radar = np.array([r * np.cos(radar_pa[0]) * np.cos(radar_pa[1]), \n",
    "                                    r * np.sin(radar_pa[0]) * np.cos(radar_pa[1]), \n",
    "                                    r * np.sin(radar_pa[1])]) \n",
    "                ax.scatter(start_point[0], start_point[1], start_point[2], color = 'b', s=5)\n",
    "                ax.scatter(end_point[0], end_point[1], end_point[2] , color = 'b', s=5)\n",
    "                \n",
    "                ax.scatter(radar[0], radar[1], radar[2] , color = 'r', s=5)\n",
    "                \n",
    "                vertices = [ start_point, end_point, radar]\n",
    "                poly3d = [vertices]\n",
    "\n",
    "                ax.add_collection3d(Poly3DCollection(poly3d, facecolors='gray', linewidths=0.5, edgecolors='b', alpha=0.5))\n",
    "                \n",
    "    \n",
    "    else:\n",
    "        for num,parameters in enumerate(initial_parameters_list):\n",
    "            fig = plt.figure(figsize=(10, 10))\n",
    "            ax = fig.add_subplot(111, projection='3d')\n",
    "            a, e, i, Omega, omega, M0 = orbital_elements(parameters['warhead_r'], parameters['warhead_v'] , False)\n",
    "            orbit_points, _ = calculate_orbit_points(a, e, i, Omega, omega, M0, 1000)\n",
    "            view_orbit(ax, parameters['warhead_r'], parameters['warhead_v'], None, 0, 45, None, orbit_points = orbit_points)\n",
    "            ax.scatter(orbit_points[-1][0], orbit_points[-1][1], orbit_points[-1][2], marker='x', color = 'k')\n",
    "            ax.scatter(orbit_points[0][0], orbit_points[0][1], orbit_points[0][2], marker='.', color = 'k')\n",
    "            start_point = orbit_points[parameters['track_interval'][0]]\n",
    "            end_point = orbit_points[parameters['track_interval'][1]]\n",
    "\n",
    "            for idx,radar_pa in enumerate(parameters['radar_polangle']):\n",
    "                r = R + parameters['radar_altitude'][idx]\n",
    "                radar = np.array([r * np.cos(radar_pa[0]) * np.cos(radar_pa[1]), \n",
    "                                    r * np.sin(radar_pa[0]) * np.cos(radar_pa[1]), \n",
    "                                    r * np.sin(radar_pa[1])]) \n",
    "                ax.scatter(start_point[0], start_point[1], start_point[2], color = 'b', s=5)\n",
    "                ax.scatter(end_point[0], end_point[1], end_point[2] , color = 'b', s=5)\n",
    "                \n",
    "                ax.scatter(radar[0], radar[1], radar[2] , color = 'r', s=5)\n",
    "                \n",
    "                # vertices = [radar, start_point, end_point]\n",
    "                # poly3d = [vertices]\n",
    "\n",
    "                # ax.add_collection3d(Poly3DCollection(poly3d, facecolors='gray', linewidths=0.5, edgecolors='b', alpha=0.5))\n",
    "                verts = orbit_points[parameters['track_interval'][0]:parameters['track_interval'][1]].tolist()\n",
    "                verts.append(radar.tolist())\n",
    "                ax.add_collection3d(Poly3DCollection([verts], facecolors='gray', linewidths=0.5, edgecolors='b', alpha=0.5))\n",
    "\n",
    "                ax.set_axis_off()\n",
    "            \n",
    "            fig.savefig(f'./output/{type}_{num}.png', format='png', dpi=500, bbox_inches='tight')\n",
    "            plt.close(fig)"
   ]
  },
  {
   "cell_type": "code",
   "execution_count": 40,
   "metadata": {},
   "outputs": [],
   "source": [
    "display_track(train_parameters_list, combine = False, type='train')\n",
    "display_track(test_parameters_list, combine = False,type='test')"
   ]
  },
  {
   "cell_type": "code",
   "execution_count": 11,
   "metadata": {},
   "outputs": [],
   "source": [
    "# ------------- Euler angle ------------------------------------------\n",
    "ang_x_int= -np.pi/2 \n",
    "ang_y_int= 0\n",
    "ang_z_int= np.pi\n",
    "# ------------- cone axis -------------------------------------------\n",
    "alpha= -np.pi/2\n",
    "belta= -np.pi/12\n",
    "# -------------- micro-motion parameters ---------------------------\n",
    "freq= [0*np.pi, 2*np.pi, 0]\n",
    "amp_n= 0"
   ]
  },
  {
   "cell_type": "code",
   "execution_count": 12,
   "metadata": {},
   "outputs": [],
   "source": [
    "mm_parameter_list = [\n",
    "    {\n",
    "        'target_name': '1',\n",
    "        'prec_freq': [2.5,4.5],\n",
    "        'prec_ang': [4, 5.5],\n",
    "        'nuta_freq': [1],\n",
    "        'nuta_ang': [2],\n",
    "    },\n",
    "    {\n",
    "        'target_name': '2',\n",
    "        'prec_freq': [2,4],\n",
    "        'prec_ang': [4, 5.5],\n",
    "        'nuta_freq': [0],\n",
    "        'nuta_ang': [0], \n",
    "    },\n",
    "    {\n",
    "        'target_name': '3',\n",
    "        'prec_freq': [1.5,3.5],\n",
    "        'prec_ang': [4, 5.5],\n",
    "        'nuta_freq': [0.5],\n",
    "        'nuta_ang': [1], \n",
    "    },\n",
    "    {\n",
    "        'target_name': '4',\n",
    "        'prec_freq': [1,3],\n",
    "        'prec_ang': [2, 3.5],\n",
    "        'nuta_freq': [0],\n",
    "        'nuta_ang': [0], \n",
    "    },\n",
    "]\n",
    "\n",
    "def get_mmpara(mm_parameter):   \n",
    "    belta = np.deg2rad(np.random.uniform(mm_parameter['prec_ang'][0],mm_parameter['prec_ang'][1]))\n",
    "    freq = [0, np.random.uniform(mm_parameter['prec_freq'][0],mm_parameter['prec_freq'][1])*2*np.pi , mm_parameter['nuta_freq'][0]*2*np.pi]\n",
    "    amp_n = np.deg2rad(mm_parameter['nuta_ang'][0])\n",
    "    return belta, freq, amp_n"
   ]
  },
  {
   "cell_type": "code",
   "execution_count": 102,
   "metadata": {},
   "outputs": [],
   "source": [
    "# extract los from orbit.\n",
    "R = 6371e3\n",
    "mu=3.986e14\n",
    "\n",
    "for target_idx in range(4):\n",
    "# target_idx = 0   # 0-3 4 types of orbit.\n",
    "    los_list = []\n",
    "\n",
    "    for x,parameters in enumerate(train_parameters_list):\n",
    "        a, e, i, Omega, omega, M0 = orbital_elements(parameters['warhead_r'], parameters['warhead_v'] , False)\n",
    "        orbit_points, M_points = calculate_orbit_points(a, e, i, Omega, omega, M0, 1000)\n",
    "        T = 2 * np.pi * np.sqrt(a**3 / mu)\n",
    "\n",
    "        t_start  = (M_points[parameters['track_interval'][0]]*T)/(2*np.pi)\n",
    "        t_end = (M_points[parameters['track_interval'][1]]*T)/(2*np.pi)\n",
    "\n",
    "        for idx,radar_pa in enumerate(parameters['radar_polangle']):\n",
    "            r = R + parameters['radar_altitude'][idx]\n",
    "            radar = np.array([r * np.cos(radar_pa[0]) * np.cos(radar_pa[1]), \n",
    "                            r * np.sin(radar_pa[0]) * np.cos(radar_pa[1]), \n",
    "                            r * np.sin(radar_pa[1])])  \n",
    "\n",
    "            # size: How many instances of each target.\n",
    "            ob_list = np.random.uniform(t_start, t_end-2, size = 700)\n",
    "            for start_ob in ob_list:\n",
    "                ob_M = start_ob*(2*np.pi)/T\n",
    "                belta, freq, amp_n = get_mmpara(mm_parameter_list[target_idx])\n",
    "\n",
    "                # point_num: sample frequency\n",
    "                _, los_deg, radar_warhead = get_los(ang_x_int, ang_y_int, ang_z_int, alpha, belta, freq , amp_n,\n",
    "                                    T= 2,  point_num= 2048, start_position= ob_M,\n",
    "                                    a= a, e= e, Omega= Omega, i= i, omega= omega, radar_position= radar,   \n",
    "                                    random_phase= True)\n",
    "                data = {\n",
    "                    'LOS': los_deg,\n",
    "                    'Radar_warhead': radar_warhead,\n",
    "                    'Orbit_ID': x,\n",
    "                    'Radar_ID': idx,\n",
    "                    'Radar_position': radar.tolist(),\n",
    "                    'Target_ID': target_idx \n",
    "                }\n",
    "                los_list.append(data)\n",
    "                break                          #\n",
    "        break\n",
    "            \n",
    "    with open('los_list_' + str(target_idx) + '.pkl', 'wb') as file:\n",
    "        pickle.dump(los_list, file)"
   ]
  },
  {
   "cell_type": "code",
   "execution_count": 103,
   "metadata": {},
   "outputs": [
    {
     "data": {
      "text/plain": [
       "[<matplotlib.lines.Line2D at 0x29db2c056f0>]"
      ]
     },
     "execution_count": 103,
     "metadata": {},
     "output_type": "execute_result"
    },
    {
     "data": {
      "image/png": "[encoded data removed]",
      "text/plain": [
       "<Figure size 640x480 with 1 Axes>"
      ]
     },
     "metadata": {},
     "output_type": "display_data"
    }
   ],
   "source": [
    "a = pickle.load(open('los_list_1.pkl', 'rb'))\n",
    "plt.plot(a[0]['LOS'])"
   ]
  },
  {
   "cell_type": "code",
   "execution_count": 104,
   "metadata": {},
   "outputs": [
    {
     "data": {
      "text/plain": [
       "[<matplotlib.lines.Line2D at 0x29dba6f8610>]"
      ]
     },
     "execution_count": 104,
     "metadata": {},
     "output_type": "execute_result"
    },
    {
     "data": {
      "image/png": "[encoded data removed]",
      "text/plain": [
       "<Figure size 640x480 with 1 Axes>"
      ]
     },
     "metadata": {},
     "output_type": "display_data"
    }
   ],
   "source": [
    "R = [np.linalg.norm(i) for i in a[0]['Radar_warhead']]\n",
    "plt.plot(R)"
   ]
  },
  {
   "cell_type": "code",
   "execution_count": null,
   "metadata": {},
   "outputs": [
    {
     "data": {
      "text/plain": [
       "<matplotlib.image.AxesImage at 0x29dab3bd3c0>"
      ]
     },
     "execution_count": 115,
     "metadata": {},
     "output_type": "execute_result"
    },
    {
     "data": {
      "image/png": "[encoded data removed]",
      "text/plain": [
       "<Figure size 640x480 with 1 Axes>"
      ]
     },
     "metadata": {},
     "output_type": "display_data"
    }
   ],
   "source": [
    "def STFT(st):\n",
    "    winlen = 64\n",
    "    _, _, Zxx = stft(st, fs=256, window = windows.hamming(winlen),nperseg=winlen, nfft=256, noverlap=winlen-1,boundary='zeros',return_onesided=False)\n",
    "    return np.fft.fftshift(Zxx,axes=0)\n",
    "\n",
    "t = np.linspace(0, 2, 2048)\n",
    "c = 3e8\n",
    "dt = t[1] - t[0]\n",
    "\n",
    "fc = 10e9\n",
    "\n",
    "# 计算径向速度 v_r\n",
    "v_r = np.diff(R) / dt\n",
    "v_r = np.append(v_r, v_r[-1])  # 补齐数组长度\n",
    "\n",
    "# 计算多普勒频移 f_d\n",
    "lambda_ = c / fc\n",
    "f_d = 2 * v_r / lambda_\n",
    "\n",
    "s_baseband = np.exp(-1j * 2 * np.pi * f_d * t)\n",
    "\n",
    "tf = STFT(s_baseband)\n",
    "plt.imshow(np.abs(tf))"
   ]
  },
  {
   "cell_type": "code",
   "execution_count": 80,
   "metadata": {},
   "outputs": [
    {
     "data": {
      "text/plain": [
       "array([0.01367141, 0.01367137, 0.01367134, ..., 0.01359867, 0.01359864,\n",
       "       0.0135986 ])"
      ]
     },
     "execution_count": 80,
     "metadata": {},
     "output_type": "execute_result"
    }
   ],
   "source": [
    "td"
   ]
  },
  {
   "cell_type": "code",
   "execution_count": 11,
   "metadata": {},
   "outputs": [],
   "source": [
    "# # extract los from orbit.\n",
    "# R = 6371e3\n",
    "# mu=3.986e14\n",
    "\n",
    "# for target_idx in range(4):\n",
    "# # target_idx = 0   # 0-3 4 types of orbit.\n",
    "#     los_list = []\n",
    "\n",
    "#     for x,parameters in enumerate(test_parameters_list):\n",
    "#         a, e, i, Omega, omega, M0 = orbital_elements(parameters['warhead_r'], parameters['warhead_v'] , False)\n",
    "#         orbit_points, M_points = calculate_orbit_points(a, e, i, Omega, omega, M0, 1000)\n",
    "#         T = 2 * np.pi * np.sqrt(a**3 / mu)\n",
    "\n",
    "#         t_start  = (M_points[parameters['track_interval'][0]]*T)/(2*np.pi)\n",
    "#         t_end = (M_points[parameters['track_interval'][1]]*T)/(2*np.pi)\n",
    "\n",
    "#         for idx,radar_pa in enumerate(parameters['radar_polangle']):\n",
    "#             r = R + parameters['radar_altitude'][idx]\n",
    "#             radar = np.array([r * np.cos(radar_pa[0]) * np.cos(radar_pa[1]), \n",
    "#                             r * np.sin(radar_pa[0]) * np.cos(radar_pa[1]), \n",
    "#                             r * np.sin(radar_pa[1])])  \n",
    "\n",
    "#             # size: How many instances of each target.\n",
    "#             ob_list = np.random.uniform(t_start, t_end-2, size = 700)\n",
    "#             for start_ob in ob_list:\n",
    "#                 ob_M = start_ob*(2*np.pi)/T\n",
    "#                 belta, freq, amp_n = get_mmpara(mm_parameter_list[target_idx])\n",
    "\n",
    "#                 # point_num: sample frequency\n",
    "#                 _, los_deg = get_los(ang_x_int, ang_y_int, ang_z_int, alpha, belta, freq , amp_n,\n",
    "#                                     T= 2,  point_num= 2048, start_position= ob_M,\n",
    "#                                     a= a, e= e, Omega= Omega, i= i, omega= omega, radar_position= radar,   \n",
    "#                                     random_phase= True)\n",
    "#                 data = {\n",
    "#                     'LOS': los_deg,\n",
    "#                     'Orbit_ID': x,\n",
    "#                     'Radar_ID': idx,\n",
    "#                     'Target_ID': target_idx \n",
    "#                 }\n",
    "#                 los_list.append(data)\n",
    "            \n",
    "#     with open('los_list_test_' + str(target_idx) + '.pkl', 'wb') as file:\n",
    "#         pickle.dump(los_list, file)"
   ]
  }
 ],
 "metadata": {
  "kernelspec": {
   "display_name": "torch",
   "language": "python",
   "name": "python3"
  },
  "language_info": {
   "codemirror_mode": {
    "name": "ipython",
    "version": 3
   },
   "file_extension": ".py",
   "mimetype": "text/x-python",
   "name": "python",
   "nbconvert_exporter": "python",
   "pygments_lexer": "ipython3",
   "version": "3.10.14"
  }
 },
 "nbformat": 4,
 "nbformat_minor": 2
}
